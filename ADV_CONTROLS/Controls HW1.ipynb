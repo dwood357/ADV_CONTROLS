{
 "cells": [
  {
   "cell_type": "code",
   "execution_count": 58,
   "metadata": {},
   "outputs": [
    {
     "data": {
      "text/html": [
       "<style>.container { width:95% !important; }</style>"
      ],
      "text/plain": [
       "<IPython.core.display.HTML object>"
      ]
     },
     "metadata": {},
     "output_type": "display_data"
    }
   ],
   "source": [
    "from sympy import *\n",
    "from sympy import sin, pde_separate\n",
    "from sympy.physics.vector import dynamicsymbols\n",
    "from sympy.physics.vector.printing import vlatex, vpprint\n",
    "\n",
    "# import numpy as np\n",
    "import matplotlib.pyplot as plt\n",
    "init_printing(use_latex='mathjax',use_unicode=True)\n",
    "from IPython.core.interactiveshell import InteractiveShell\n",
    "from IPython.core.display import display, HTML\n",
    "# pretty print all cell's output and not just the last one\n",
    "InteractiveShell.ast_node_interactivity = \"all\"\n",
    "display(HTML(\"<style>.container { width:95% !important; }</style>\"))"
   ]
  },
  {
   "cell_type": "code",
   "execution_count": 75,
   "metadata": {},
   "outputs": [],
   "source": [
    "x1, x2, x3, dx1, dx2, dx3, mu, a, o = symbols(' x1 x2 x3 dx1 dx2 dx3 mu a o')"
   ]
  },
  {
   "cell_type": "code",
   "execution_count": 83,
   "metadata": {},
   "outputs": [
    {
     "data": {
      "text/latex": [
       "$$\\left[\\begin{matrix}- x_{1} \\left(\\frac{x_{1}^{2}}{9} + x_{2}^{2}\\right) + x_{1} - 2 x_{2}\\\\\\frac{x_{1}}{3} - x_{2} \\left(\\frac{x_{1}^{2}}{9} + x_{2}^{2}\\right) + x_{2}\\end{matrix}\\right]$$"
      ],
      "text/plain": [
       "⎡     ⎛  2      ⎞            ⎤\n",
       "⎢     ⎜x₁      2⎟            ⎥\n",
       "⎢- x₁⋅⎜─── + x₂ ⎟ + x₁ - 2⋅x₂⎥\n",
       "⎢     ⎝ 9       ⎠            ⎥\n",
       "⎢                            ⎥\n",
       "⎢          ⎛  2      ⎞       ⎥\n",
       "⎢  x₁      ⎜x₁      2⎟       ⎥\n",
       "⎢  ── - x₂⋅⎜─── + x₂ ⎟ + x₂  ⎥\n",
       "⎣  3       ⎝ 9       ⎠       ⎦"
      ]
     },
     "execution_count": 83,
     "metadata": {},
     "output_type": "execute_result"
    },
    {
     "data": {
      "text/latex": [
       "$$\\left[\\begin{matrix}x_{1} \\left(\\frac{x_{1}^{2}}{9} + x_{2}^{2}\\right) - x_{1} - 2 x_{2}\\\\\\frac{x_{1}}{3} + x_{2} \\left(\\frac{x_{1}^{2}}{9} + x_{2}^{2}\\right) - x_{2}\\end{matrix}\\right]$$"
      ],
      "text/plain": [
       "⎡   ⎛  2      ⎞            ⎤\n",
       "⎢   ⎜x₁      2⎟            ⎥\n",
       "⎢x₁⋅⎜─── + x₂ ⎟ - x₁ - 2⋅x₂⎥\n",
       "⎢   ⎝ 9       ⎠            ⎥\n",
       "⎢                          ⎥\n",
       "⎢         ⎛  2      ⎞      ⎥\n",
       "⎢ x₁      ⎜x₁      2⎟      ⎥\n",
       "⎢ ── + x₂⋅⎜─── + x₂ ⎟ - x₂ ⎥\n",
       "⎣ 3       ⎝ 9       ⎠      ⎦"
      ]
     },
     "execution_count": 83,
     "metadata": {},
     "output_type": "execute_result"
    }
   ],
   "source": [
    "F1 = Matrix([[mu*x1-2*o*x2+a*x1*((x1**2)/9 + x2**2)],\n",
    "             [(o/3)*x1+mu*x2+a*x2*((x1**2)/9 + x2**2)]])\n",
    "F11 = F1.subs(mu, 1).subs(a, -1).subs(o, 1)\n",
    "F12 = F1.subs(mu, -1).subs(a, 1).subs(o, 1)\n",
    "\n",
    "F11\n",
    "F12"
   ]
  },
  {
   "cell_type": "code",
   "execution_count": 87,
   "metadata": {},
   "outputs": [
    {
     "data": {
      "text/latex": [
       "$$\\left \\{ 1 - \\frac{\\sqrt{6} i}{3} : 1, \\quad 1 + \\frac{\\sqrt{6} i}{3} : 1\\right \\}$$"
      ],
      "text/plain": [
       "⎧    √6⋅ⅈ         √6⋅ⅈ   ⎫\n",
       "⎨1 - ────: 1, 1 + ────: 1⎬\n",
       "⎩     3            3     ⎭"
      ]
     },
     "execution_count": 87,
     "metadata": {},
     "output_type": "execute_result"
    },
    {
     "data": {
      "text/latex": [
       "$$\\left \\{ -1 - \\frac{\\sqrt{6} i}{3} : 1, \\quad -1 + \\frac{\\sqrt{6} i}{3} : 1\\right \\}$$"
      ],
      "text/plain": [
       "⎧     √6⋅ⅈ          √6⋅ⅈ   ⎫\n",
       "⎨-1 - ────: 1, -1 + ────: 1⎬\n",
       "⎩      3             3     ⎭"
      ]
     },
     "execution_count": 87,
     "metadata": {},
     "output_type": "execute_result"
    }
   ],
   "source": [
    "Y1 = Matrix([x1,x2])\n",
    "# F11 = F11.subs(x1, 0).subs(x2, 0)\n",
    "# F12 = F12.subs(x1, 0).subs(x2, 0)\n",
    "\n",
    "F11.jacobian(Y1).subs(x1, 0).subs(x2, 0).eigenvals()\n",
    "F12.jacobian(Y1).subs(x1, 0).subs(x2, 0).eigenvals()"
   ]
  },
  {
   "cell_type": "code",
   "execution_count": 60,
   "metadata": {},
   "outputs": [
    {
     "data": {
      "text/latex": [
       "$$\\left[\\begin{matrix}x_{1} \\left(x_{1}^{2} + x_{2}^{2}\\right) + x_{1} - x_{3}\\\\- x_{2} \\left(x_{1}^{2} + x_{2}^{2}\\right) + 2 x_{3}\\\\\\mu x_{3}\\end{matrix}\\right]$$"
      ],
      "text/plain": [
       "⎡   ⎛  2     2⎞          ⎤\n",
       "⎢x₁⋅⎝x₁  + x₂ ⎠ + x₁ - x₃⎥\n",
       "⎢                        ⎥\n",
       "⎢     ⎛  2     2⎞        ⎥\n",
       "⎢- x₂⋅⎝x₁  + x₂ ⎠ + 2⋅x₃ ⎥\n",
       "⎢                        ⎥\n",
       "⎣          μ⋅x₃          ⎦"
      ]
     },
     "execution_count": 60,
     "metadata": {},
     "output_type": "execute_result"
    }
   ],
   "source": [
    "dx = Matrix([[x1 - x3 + x1*(x1**2+x2**2)],[x3+x3-x2*(x1**2+x2**2)],[mu*x3]])\n",
    "\n",
    "Y= Matrix([x1, x2, x3])\n",
    "dx"
   ]
  },
  {
   "cell_type": "code",
   "execution_count": 61,
   "metadata": {},
   "outputs": [
    {
     "data": {
      "text/latex": [
       "$$\\left[\\begin{matrix}3 x_{1}^{2} + x_{2}^{2} + 1 & 2 x_{1} x_{2} & -1\\\\- 2 x_{1} x_{2} & - x_{1}^{2} - 3 x_{2}^{2} & 2\\\\0 & 0 & \\mu\\end{matrix}\\right]$$"
      ],
      "text/plain": [
       "⎡    2     2                       ⎤\n",
       "⎢3⋅x₁  + x₂  + 1     2⋅x₁⋅x₂     -1⎥\n",
       "⎢                                  ⎥\n",
       "⎢                     2       2    ⎥\n",
       "⎢   -2⋅x₁⋅x₂      - x₁  - 3⋅x₂   2 ⎥\n",
       "⎢                                  ⎥\n",
       "⎣       0               0        μ ⎦"
      ]
     },
     "execution_count": 61,
     "metadata": {},
     "output_type": "execute_result"
    }
   ],
   "source": [
    "x = dx.jacobian(Y)\n",
    "x"
   ]
  },
  {
   "cell_type": "code",
   "execution_count": 62,
   "metadata": {},
   "outputs": [
    {
     "data": {
      "text/latex": [
       "$$\\left \\{ \\mu : 1, \\quad x_{1}^{2} - x_{2}^{2} - \\frac{\\sqrt{16 x_{1}^{4} + 16 x_{1}^{2} x_{2}^{2} + 8 x_{1}^{2} + 16 x_{2}^{4} + 8 x_{2}^{2} + 1}}{2} + \\frac{1}{2} : 1, \\quad x_{1}^{2} - x_{2}^{2} + \\frac{\\sqrt{16 x_{1}^{4} + 16 x_{1}^{2} x_{2}^{2} + 8 x_{1}^{2} + 16 x_{2}^{4} + 8 x_{2}^{2} + 1}}{2} + \\frac{1}{2} : 1\\right \\}$$"
      ],
      "text/plain": [
       "⎧                     __________________________________________________      \n",
       "⎪                    ╱      4        2   2       2        4       2           \n",
       "⎨        2     2   ╲╱  16⋅x₁  + 16⋅x₁ ⋅x₂  + 8⋅x₁  + 16⋅x₂  + 8⋅x₂  + 1    1  \n",
       "⎪μ: 1, x₁  - x₂  - ───────────────────────────────────────────────────── + ─: \n",
       "⎩                                            2                             2  \n",
       "\n",
       "                  __________________________________________________       ⎫\n",
       "                 ╱      4        2   2       2        4       2            ⎪\n",
       "     2     2   ╲╱  16⋅x₁  + 16⋅x₁ ⋅x₂  + 8⋅x₁  + 16⋅x₂  + 8⋅x₂  + 1    1   ⎬\n",
       "1, x₁  - x₂  + ───────────────────────────────────────────────────── + ─: 1⎪\n",
       "                                         2                             2   ⎭"
      ]
     },
     "execution_count": 62,
     "metadata": {},
     "output_type": "execute_result"
    }
   ],
   "source": [
    "x.eigenvals()\n"
   ]
  },
  {
   "cell_type": "code",
   "execution_count": 63,
   "metadata": {},
   "outputs": [
    {
     "data": {
      "text/latex": [
       "$$\\left[\\begin{matrix}x_{2}\\\\0.5 \\mu^{2} \\sin{\\left (2 x_{1} \\right )} + 0.2 \\mu \\sin{\\left (x_{1} \\right )} - 0.1 x_{2} + 0.1\\end{matrix}\\right]$$"
      ],
      "text/plain": [
       "⎡                      x₂                       ⎤\n",
       "⎢                                               ⎥\n",
       "⎢     2                                         ⎥\n",
       "⎣0.5⋅μ ⋅sin(2⋅x₁) + 0.2⋅μ⋅sin(x₁) - 0.1⋅x₂ + 0.1⎦"
      ]
     },
     "execution_count": 63,
     "metadata": {},
     "output_type": "execute_result"
    }
   ],
   "source": [
    "dx2 = Matrix([[x2], [0.1*(1-x2)+0.2*mu*sin(x1)+0.5*mu**2*sin(2*x1)]])\n",
    "dx2"
   ]
  },
  {
   "cell_type": "code",
   "execution_count": 64,
   "metadata": {},
   "outputs": [
    {
     "data": {
      "text/latex": [
       "$$\\left[\\begin{matrix}0 & 1\\\\1.0 \\mu^{2} + 0.2 \\mu & -0.1\\end{matrix}\\right]$$"
      ],
      "text/plain": [
       "⎡      0          1  ⎤\n",
       "⎢                    ⎥\n",
       "⎢     2              ⎥\n",
       "⎣1.0⋅μ  + 0.2⋅μ  -0.1⎦"
      ]
     },
     "execution_count": 64,
     "metadata": {},
     "output_type": "execute_result"
    }
   ],
   "source": [
    "Y2 = Matrix([x1,x2])\n",
    "x2 = dx2.jacobian(Y2)\n",
    "x2 = x2.subs(x1,0)\n",
    "x2"
   ]
  },
  {
   "cell_type": "code",
   "execution_count": 65,
   "metadata": {},
   "outputs": [
    {
     "data": {
      "text/latex": [
       "$$\\left \\{ - \\frac{\\sqrt{400 \\mu^{2} + 80 \\mu + 1}}{20} - \\frac{1}{20} : 1, \\quad \\frac{\\sqrt{400 \\mu^{2} + 80 \\mu + 1}}{20} - \\frac{1}{20} : 1\\right \\}$$"
      ],
      "text/plain": [
       "⎧     ___________________             ___________________        ⎫\n",
       "⎪    ╱      2                        ╱      2                    ⎪\n",
       "⎨  ╲╱  400⋅μ  + 80⋅μ + 1    1      ╲╱  400⋅μ  + 80⋅μ + 1    1    ⎬\n",
       "⎪- ────────────────────── - ──: 1, ────────────────────── - ──: 1⎪\n",
       "⎩            20             20               20             20   ⎭"
      ]
     },
     "execution_count": 65,
     "metadata": {},
     "output_type": "execute_result"
    }
   ],
   "source": [
    "x2.eigenvals()"
   ]
  },
  {
   "cell_type": "code",
   "execution_count": null,
   "metadata": {},
   "outputs": [],
   "source": []
  },
  {
   "cell_type": "code",
   "execution_count": null,
   "metadata": {},
   "outputs": [],
   "source": []
  }
 ],
 "metadata": {
  "kernelspec": {
   "display_name": "Python 3",
   "language": "python",
   "name": "python3"
  },
  "language_info": {
   "codemirror_mode": {
    "name": "ipython",
    "version": 3
   },
   "file_extension": ".py",
   "mimetype": "text/x-python",
   "name": "python",
   "nbconvert_exporter": "python",
   "pygments_lexer": "ipython3",
   "version": "3.7.1"
  }
 },
 "nbformat": 4,
 "nbformat_minor": 2
}
